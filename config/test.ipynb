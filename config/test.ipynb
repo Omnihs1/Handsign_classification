{
 "cells": [
  {
   "cell_type": "code",
   "execution_count": 1,
   "metadata": {},
   "outputs": [],
   "source": [
    "import yaml"
   ]
  },
  {
   "cell_type": "code",
   "execution_count": 8,
   "metadata": {},
   "outputs": [],
   "source": [
    "with open('model.yaml', 'r') as file:\n",
    "    config = yaml.safe_load(file)"
   ]
  },
  {
   "cell_type": "code",
   "execution_count": 11,
   "metadata": {},
   "outputs": [
    {
     "data": {
      "text/plain": [
       "{'experiment_name': 'INCLUDE_CLASSIFICATION',\n",
       " 'model_name': 'ST_GCN',\n",
       " 'loss_name': 'cross_entropy',\n",
       " 'optimizer_name': 'adam',\n",
       " 'lr_rate': 0.0001,\n",
       " 'weight_decay': 0.001,\n",
       " 'batch_size': 4,\n",
       " 'epochs': 50,\n",
       " 'in_channels': 2,\n",
       " 'classes': 263,\n",
       " 'graph_args': {'layout': 'mediapipe', 'strategy': 'spatial'},\n",
       " 'edge_importance_weighting': True}"
      ]
     },
     "execution_count": 11,
     "metadata": {},
     "output_type": "execute_result"
    }
   ],
   "source": [
    "config"
   ]
  },
  {
   "cell_type": "code",
   "execution_count": 9,
   "metadata": {},
   "outputs": [
    {
     "data": {
      "text/plain": [
       "{'layout': 'mediapipe', 'strategy': 'spatial'}"
      ]
     },
     "execution_count": 9,
     "metadata": {},
     "output_type": "execute_result"
    }
   ],
   "source": [
    "config[\"graph_args\"]"
   ]
  }
 ],
 "metadata": {
  "kernelspec": {
   "display_name": "projectAI",
   "language": "python",
   "name": "python3"
  },
  "language_info": {
   "codemirror_mode": {
    "name": "ipython",
    "version": 3
   },
   "file_extension": ".py",
   "mimetype": "text/x-python",
   "name": "python",
   "nbconvert_exporter": "python",
   "pygments_lexer": "ipython3",
   "version": "3.11.3"
  }
 },
 "nbformat": 4,
 "nbformat_minor": 2
}
