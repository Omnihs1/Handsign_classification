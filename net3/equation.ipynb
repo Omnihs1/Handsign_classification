{
 "cells": [
  {
   "cell_type": "markdown",
   "metadata": {},
   "source": [
    "# DECOUPLING AGGREGATION EQUATION"
   ]
  },
  {
   "cell_type": "markdown",
   "metadata": {},
   "source": [
    "$$\n",
    "\\mathbf{X}^{\\prime}=\\widetilde{\\mathbf{A}}_{:,:, 1} \\mathbf{X}_{:,:\\left\\lfloor\\frac{\\mathbf{C}}{\\mathbf{g}}\\right\\rfloor}^{\\mathbf{w}}\\left\\|\\widetilde{\\mathbf{A}}_{:,:, 2} \\mathbf{X}_{:,\\left\\lfloor\\frac{\\mathbf{C}}{\\mathbf{g}}\\right\\rfloor:\\left\\lfloor\\frac{\\mathbf{2}}{\\mathbf{g}}\\right\\rfloor}\\right\\| \\cdots \\| \\widetilde{\\mathbf{A}}_{:,:, g} \\mathbf{X}_{:,\\left\\lfloor\\frac{(\\mathbf{g}-\\mathbf{1}) \\mathbf{C}}{\\mathbf{g}}\\right\\rfloor:}^{\\mathbf{w}}\n",
    "$$"
   ]
  }
 ],
 "metadata": {
  "language_info": {
   "name": "python"
  }
 },
 "nbformat": 4,
 "nbformat_minor": 2
}
